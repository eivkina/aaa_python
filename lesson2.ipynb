{
 "cells": [
  {
   "cell_type": "markdown",
   "metadata": {
    "ExecuteTime": {
     "end_time": "2020-02-11T16:44:04.985239Z",
     "start_time": "2020-02-11T16:44:04.981716Z"
    }
   },
   "source": [
    "### Число разбить на список цифр"
   ]
  },
  {
   "cell_type": "code",
   "execution_count": null,
   "metadata": {},
   "outputs": [],
   "source": [
    "number_list = []"
   ]
  },
  {
   "cell_type": "code",
   "execution_count": 4,
   "metadata": {
    "ExecuteTime": {
     "end_time": "2020-02-11T16:40:29.440017Z",
     "start_time": "2020-02-11T16:40:24.660712Z"
    }
   },
   "outputs": [
    {
     "name": "stdout",
     "output_type": "stream",
     "text": [
      "45673\n"
     ]
    }
   ],
   "source": [
    "number = input()"
   ]
  },
  {
   "cell_type": "code",
   "execution_count": 10,
   "metadata": {
    "ExecuteTime": {
     "end_time": "2020-02-11T16:44:06.706629Z",
     "start_time": "2020-02-11T16:44:06.702092Z"
    }
   },
   "outputs": [
    {
     "data": {
      "text/plain": [
       "[4, 5, 6, 7, 3]"
      ]
     },
     "execution_count": 10,
     "metadata": {},
     "output_type": "execute_result"
    }
   ],
   "source": [
    "for i in number:\n",
    "    number_list.append(int(i))\n",
    "number_list"
   ]
  },
  {
   "cell_type": "code",
   "execution_count": 11,
   "metadata": {
    "ExecuteTime": {
     "end_time": "2020-02-11T16:53:01.349355Z",
     "start_time": "2020-02-11T16:53:01.343934Z"
    }
   },
   "outputs": [
    {
     "data": {
      "text/plain": [
       "[6, 7, 6, 3, 8, 0]"
      ]
     },
     "execution_count": 11,
     "metadata": {},
     "output_type": "execute_result"
    }
   ],
   "source": [
    "number = 676380\n",
    "number_list = [int(d) for d in str(number)]\n",
    "number_list"
   ]
  },
  {
   "cell_type": "markdown",
   "metadata": {},
   "source": [
    "### Кол-во четных и нечетных цифр"
   ]
  },
  {
   "cell_type": "code",
   "execution_count": 22,
   "metadata": {
    "ExecuteTime": {
     "end_time": "2020-02-11T17:04:59.857737Z",
     "start_time": "2020-02-11T17:04:59.852388Z"
    }
   },
   "outputs": [
    {
     "name": "stdout",
     "output_type": "stream",
     "text": [
      "3 3\n"
     ]
    }
   ],
   "source": [
    "number = 378984\n",
    "odds = 0\n",
    "evens = 0\n",
    "for i in str(number):\n",
    "    if int(i) % 2 == 0:\n",
    "        evens += 1\n",
    "    else:\n",
    "        odds += 1\n",
    "print(evens, odds)\n",
    "    "
   ]
  },
  {
   "cell_type": "markdown",
   "metadata": {},
   "source": [
    "### Развернуть список"
   ]
  },
  {
   "cell_type": "code",
   "execution_count": 47,
   "metadata": {
    "ExecuteTime": {
     "end_time": "2020-02-11T17:25:09.818014Z",
     "start_time": "2020-02-11T17:25:09.812873Z"
    }
   },
   "outputs": [
    {
     "data": {
      "text/plain": [
       "[6, 7, 6, 3, 8, 0]"
      ]
     },
     "execution_count": 47,
     "metadata": {},
     "output_type": "execute_result"
    }
   ],
   "source": [
    "number_list "
   ]
  },
  {
   "cell_type": "code",
   "execution_count": 48,
   "metadata": {
    "ExecuteTime": {
     "end_time": "2020-02-11T17:25:14.326383Z",
     "start_time": "2020-02-11T17:25:14.320827Z"
    }
   },
   "outputs": [
    {
     "data": {
      "text/plain": [
       "[0, 8, 3, 6, 7, 6]"
      ]
     },
     "execution_count": 48,
     "metadata": {},
     "output_type": "execute_result"
    }
   ],
   "source": [
    "reserved_list = []\n",
    "i = 1\n",
    "while i <= len(number_list):\n",
    "    reserved_list.append(number_list[-i])\n",
    "    i += 1\n",
    "reserved_list"
   ]
  },
  {
   "cell_type": "code",
   "execution_count": 52,
   "metadata": {
    "ExecuteTime": {
     "end_time": "2020-02-11T17:31:28.927582Z",
     "start_time": "2020-02-11T17:31:28.923170Z"
    }
   },
   "outputs": [
    {
     "name": "stdout",
     "output_type": "stream",
     "text": [
      "<list_reverseiterator object at 0x7fdbd4419898>\n"
     ]
    }
   ],
   "source": [
    "reversed(number_list)\n"
   ]
  },
  {
   "cell_type": "code",
   "execution_count": 53,
   "metadata": {
    "ExecuteTime": {
     "end_time": "2020-02-11T17:33:42.912379Z",
     "start_time": "2020-02-11T17:33:42.907156Z"
    }
   },
   "outputs": [
    {
     "data": {
      "text/plain": [
       "[0, 8, 3, 6, 7, 6]"
      ]
     },
     "execution_count": 53,
     "metadata": {},
     "output_type": "execute_result"
    }
   ],
   "source": [
    "number_list[::-1]"
   ]
  },
  {
   "cell_type": "markdown",
   "metadata": {},
   "source": [
    "### Два списка, вывести элементы первого, которых нет во втором "
   ]
  },
  {
   "cell_type": "code",
   "execution_count": 59,
   "metadata": {
    "ExecuteTime": {
     "end_time": "2020-02-11T17:45:18.671232Z",
     "start_time": "2020-02-11T17:45:18.665893Z"
    }
   },
   "outputs": [
    {
     "name": "stdout",
     "output_type": "stream",
     "text": [
      "[1, 2, 3]\n"
     ]
    }
   ],
   "source": [
    "list1 = [1,2,3,4,5]\n",
    "list2 = [4,4,5,7]\n",
    "\n",
    "set(list2)\n",
    "print([x for x in list1 if x not in set(list2) ])"
   ]
  },
  {
   "cell_type": "code",
   "execution_count": 58,
   "metadata": {
    "ExecuteTime": {
     "end_time": "2020-02-11T17:44:15.392085Z",
     "start_time": "2020-02-11T17:44:15.386513Z"
    }
   },
   "outputs": [
    {
     "data": {
      "text/plain": [
       "{1, 2, 3}"
      ]
     },
     "execution_count": 58,
     "metadata": {},
     "output_type": "execute_result"
    }
   ],
   "source": [
    "set(list1) - set(list2)"
   ]
  },
  {
   "cell_type": "markdown",
   "metadata": {},
   "source": [
    "### Разбить строку на слова и подсчитать, сколько каждое слово встречается"
   ]
  },
  {
   "cell_type": "code",
   "execution_count": 2,
   "metadata": {
    "ExecuteTime": {
     "end_time": "2020-02-19T13:04:25.672030Z",
     "start_time": "2020-02-19T13:04:25.669683Z"
    }
   },
   "outputs": [],
   "source": [
    "text = \"fjrfj3 43 jkjf 43   43\""
   ]
  },
  {
   "cell_type": "code",
   "execution_count": 15,
   "metadata": {
    "ExecuteTime": {
     "end_time": "2020-03-03T12:06:41.454832Z",
     "start_time": "2020-03-03T12:06:41.451090Z"
    }
   },
   "outputs": [],
   "source": [
    "words = {}\n",
    "for s in text.lower().split(' '):\n",
    "    if s == '':\n",
    "        continue\n",
    "    if s not in words: #words.get(s) is None:\n",
    "        words[s] = 1\n",
    "    else:\n",
    "        words[s] += 1"
   ]
  },
  {
   "cell_type": "code",
   "execution_count": 16,
   "metadata": {
    "ExecuteTime": {
     "end_time": "2020-03-03T12:06:41.569161Z",
     "start_time": "2020-03-03T12:06:41.565649Z"
    }
   },
   "outputs": [
    {
     "data": {
      "text/plain": [
       "{'fjrfj3': 1, '43': 3, 'jkjf': 1}"
      ]
     },
     "execution_count": 16,
     "metadata": {},
     "output_type": "execute_result"
    }
   ],
   "source": [
    "words"
   ]
  },
  {
   "cell_type": "markdown",
   "metadata": {},
   "source": [
    "## Домашнее задание"
   ]
  },
  {
   "cell_type": "markdown",
   "metadata": {},
   "source": [
    "### Убрать дубликаты в списке "
   ]
  },
  {
   "cell_type": "code",
   "execution_count": 5,
   "metadata": {
    "ExecuteTime": {
     "end_time": "2020-03-03T11:53:25.316969Z",
     "start_time": "2020-03-03T11:53:25.313949Z"
    }
   },
   "outputs": [],
   "source": [
    "list1 = [1,2,2,2,3,4,5,1,4]"
   ]
  },
  {
   "cell_type": "code",
   "execution_count": 6,
   "metadata": {
    "ExecuteTime": {
     "end_time": "2020-03-03T11:53:31.009914Z",
     "start_time": "2020-03-03T11:53:31.006030Z"
    }
   },
   "outputs": [
    {
     "data": {
      "text/plain": [
       "[1, 2, 3, 4, 5]"
      ]
     },
     "execution_count": 6,
     "metadata": {},
     "output_type": "execute_result"
    }
   ],
   "source": [
    "list(set(list1))"
   ]
  },
  {
   "cell_type": "markdown",
   "metadata": {},
   "source": [
    "### Удалить из списка эл-ты, которые не удоблетворяют условию"
   ]
  },
  {
   "cell_type": "code",
   "execution_count": 7,
   "metadata": {
    "ExecuteTime": {
     "end_time": "2020-03-03T11:58:08.306483Z",
     "start_time": "2020-03-03T11:58:08.303380Z"
    }
   },
   "outputs": [],
   "source": [
    "list1 = [1,100,12, 24,-2,2,2,3,4,5,1,4]"
   ]
  },
  {
   "cell_type": "code",
   "execution_count": 8,
   "metadata": {
    "ExecuteTime": {
     "end_time": "2020-03-03T11:58:08.450568Z",
     "start_time": "2020-03-03T11:58:08.446993Z"
    }
   },
   "outputs": [
    {
     "name": "stdout",
     "output_type": "stream",
     "text": [
      "[12, 2, 2, 3, 4, 5, 4]\n"
     ]
    }
   ],
   "source": [
    "print([x for x in list1 if (x>=2 ) & (x<15) ])"
   ]
  },
  {
   "cell_type": "markdown",
   "metadata": {},
   "source": [
    "### Заменить несколько идущих пробельных символов в строке на один "
   ]
  },
  {
   "cell_type": "code",
   "execution_count": 24,
   "metadata": {
    "ExecuteTime": {
     "end_time": "2020-03-03T12:09:46.894215Z",
     "start_time": "2020-03-03T12:09:46.891621Z"
    }
   },
   "outputs": [],
   "source": [
    "text = \"aaa   2 abc 43   v\""
   ]
  },
  {
   "cell_type": "code",
   "execution_count": 25,
   "metadata": {
    "ExecuteTime": {
     "end_time": "2020-03-03T12:09:47.022658Z",
     "start_time": "2020-03-03T12:09:47.018835Z"
    }
   },
   "outputs": [
    {
     "data": {
      "text/plain": [
       "'aaa 2 abc 43 v'"
      ]
     },
     "execution_count": 25,
     "metadata": {},
     "output_type": "execute_result"
    }
   ],
   "source": [
    "' '.join(text.split())"
   ]
  },
  {
   "cell_type": "markdown",
   "metadata": {},
   "source": [
    "### Дан список строк, нужно оставить только те, которые в которых строки содержат заданную подстроку "
   ]
  },
  {
   "cell_type": "code",
   "execution_count": 27,
   "metadata": {
    "ExecuteTime": {
     "end_time": "2020-03-03T12:15:49.364327Z",
     "start_time": "2020-03-03T12:15:49.361634Z"
    }
   },
   "outputs": [],
   "source": [
    "str_list = ['abc', '1aab', 'bb caaa']"
   ]
  },
  {
   "cell_type": "code",
   "execution_count": 28,
   "metadata": {
    "ExecuteTime": {
     "end_time": "2020-03-03T12:15:56.208542Z",
     "start_time": "2020-03-03T12:15:56.206013Z"
    }
   },
   "outputs": [],
   "source": [
    "substr = 'aaa'"
   ]
  },
  {
   "cell_type": "code",
   "execution_count": 29,
   "metadata": {
    "ExecuteTime": {
     "end_time": "2020-03-03T12:15:56.913501Z",
     "start_time": "2020-03-03T12:15:56.910063Z"
    }
   },
   "outputs": [
    {
     "name": "stdout",
     "output_type": "stream",
     "text": [
      "['bb caaa']\n"
     ]
    }
   ],
   "source": [
    "print([x for x in str_list if substr in x ])"
   ]
  },
  {
   "cell_type": "markdown",
   "metadata": {},
   "source": [
    "### Дан список пар координат. Вывести те, которые заданы неверно "
   ]
  },
  {
   "cell_type": "code",
   "execution_count": 30,
   "metadata": {
    "ExecuteTime": {
     "end_time": "2020-03-03T12:19:02.355812Z",
     "start_time": "2020-03-03T12:19:02.352989Z"
    }
   },
   "outputs": [],
   "source": [
    "coord_list = [(55,38), (100,56), (90,180), (23, 300)]"
   ]
  },
  {
   "cell_type": "code",
   "execution_count": 35,
   "metadata": {
    "ExecuteTime": {
     "end_time": "2020-03-03T12:22:31.705804Z",
     "start_time": "2020-03-03T12:22:31.701029Z"
    }
   },
   "outputs": [
    {
     "name": "stdout",
     "output_type": "stream",
     "text": [
      "[(100, 56), (23, 300)]\n"
     ]
    }
   ],
   "source": [
    "def check_coord (coord):\n",
    "    return (coord[0]>=-90) & (coord[0]<=90) & (coord[1]>=-180) & (coord[1]<=180)\n",
    "\n",
    "print([x for x in coord_list if not check_coord(x) ])"
   ]
  },
  {
   "cell_type": "markdown",
   "metadata": {},
   "source": [
    "### Найти неверно закрывающуюся скобочку в выражении () ((([]))} "
   ]
  },
  {
   "cell_type": "code",
   "execution_count": 90,
   "metadata": {
    "ExecuteTime": {
     "end_time": "2020-03-03T15:01:05.437560Z",
     "start_time": "2020-03-03T15:01:05.434760Z"
    }
   },
   "outputs": [],
   "source": [
    "brackets = '() ((([]))}'"
   ]
  },
  {
   "cell_type": "code",
   "execution_count": 53,
   "metadata": {
    "ExecuteTime": {
     "end_time": "2020-03-03T14:49:40.178863Z",
     "start_time": "2020-03-03T14:49:40.175678Z"
    }
   },
   "outputs": [],
   "source": [
    "open_brackets = ['(', '[', '{']\n",
    "close_brackets = [')', ']', '}']\n",
    "brackets_pairs = {')':'(', ']':'[', '}':'{'}"
   ]
  },
  {
   "cell_type": "code",
   "execution_count": 91,
   "metadata": {
    "ExecuteTime": {
     "end_time": "2020-03-03T15:01:06.847109Z",
     "start_time": "2020-03-03T15:01:06.840127Z"
    }
   },
   "outputs": [
    {
     "data": {
      "text/plain": [
       "'wrong type closed brackets: }'"
      ]
     },
     "execution_count": 91,
     "metadata": {},
     "output_type": "execute_result"
    }
   ],
   "source": [
    "balanced_brackets = []\n",
    "\n",
    "def check_brackets(brackets):\n",
    "    for i in brackets:\n",
    "        if i in open_brackets:\n",
    "            balanced_brackets.append(i)\n",
    "        elif i in close_brackets:\n",
    "            if len(balanced_brackets) == 0:\n",
    "                return ('wrong closed brackets (no openning): '+str(i))\n",
    "            elif brackets_pairs[i] == balanced_brackets[-1]:\n",
    "                balanced_brackets.pop()\n",
    "            else:\n",
    "                return ('wrong type closed brackets: '+str(i))\n",
    "        else:\n",
    "            continue\n",
    "    if len(balanced_brackets) != 0:\n",
    "        return ('wrong opened (no closing): '+''.join(balanced_brackets))\n",
    "        \n",
    "check_brackets(brackets)"
   ]
  },
  {
   "cell_type": "code",
   "execution_count": null,
   "metadata": {},
   "outputs": [],
   "source": []
  }
 ],
 "metadata": {
  "kernelspec": {
   "display_name": "Python 3",
   "language": "python",
   "name": "python3"
  },
  "language_info": {
   "codemirror_mode": {
    "name": "ipython",
    "version": 3
   },
   "file_extension": ".py",
   "mimetype": "text/x-python",
   "name": "python",
   "nbconvert_exporter": "python",
   "pygments_lexer": "ipython3",
   "version": "3.6.3"
  },
  "toc": {
   "base_numbering": 1,
   "nav_menu": {},
   "number_sections": true,
   "sideBar": true,
   "skip_h1_title": false,
   "title_cell": "Table of Contents",
   "title_sidebar": "Contents",
   "toc_cell": false,
   "toc_position": {},
   "toc_section_display": true,
   "toc_window_display": false
  }
 },
 "nbformat": 4,
 "nbformat_minor": 2
}
